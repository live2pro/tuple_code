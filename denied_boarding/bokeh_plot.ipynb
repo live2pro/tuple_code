{
 "cells": [
  {
   "cell_type": "markdown",
   "metadata": {},
   "source": [
    "## **Denied Boarding per 10k boarding passengers**"
   ]
  },
  {
   "cell_type": "code",
   "execution_count": null,
   "metadata": {
    "collapsed": false
   },
   "outputs": [],
   "source": [
    "import pandas as pd\n",
    "\n",
    "df = pd.read_csv(\"denied_boarding.csv\")\n",
    "for col in ['3', '4', '7', '8(a)']:\n",
    "    df.loc[:, col] = df[col].map(lambda x: int(x.replace('$', '').replace(',', '')))\n",
    "df.loc[:, 'denied_boarding_ratio'] = df['4']/df['7'] * 10000 # denied boarding ratio"
   ]
  },
  {
   "cell_type": "markdown",
   "metadata": {},
   "source": [
    "## **Plotting using Bokeh library**"
   ]
  },
  {
   "cell_type": "code",
   "execution_count": null,
   "metadata": {
    "collapsed": true
   },
   "outputs": [],
   "source": [
    "from bokeh.models import HoverTool, ColumnDataSource, LabelSet\n",
    "from bokeh.charts import Bar, Scatter\n",
    "from bokeh.resources import CDN\n",
    "from bokeh.embed import file_html\n",
    "from bokeh.charts.attributes import cat, color\n",
    "from bokeh.charts.operations import blend"
   ]
  },
  {
   "cell_type": "code",
   "execution_count": null,
   "metadata": {
    "collapsed": false
   },
   "outputs": [],
   "source": [
    "# bar plot on year\n",
    "quarter = '2016_4q'\n",
    "df_q = df.query(\"time=='%s'\" % quarter)\n",
    "\n",
    "hover = HoverTool(\n",
    "        tooltips=[\n",
    "            ('Airline', \"@CARRIER\"),\n",
    "            (\"denied boarding ratio\", \"@height\")\n",
    "        ]\n",
    ")\n",
    "p = Bar(df_q,\n",
    "        label='CARRIER',\n",
    "        values='denied_boarding_ratio',\n",
    "        color=\"wheat\",\n",
    "        tools=[hover], title=\"Denied Boarding \" + quarter, legend=None,\n",
    "        xlabel=\"Airlines\", ylabel=\"Number of passengers denied boarding/10000 Passengers\")\n",
    "\n",
    "html = file_html(p, CDN, title=\"Denied Boarding 2016 Q4\")\n",
    "output_file = open('bar_plot.html', 'w')\n",
    "output_file.write(html)"
   ]
  },
  {
   "cell_type": "code",
   "execution_count": null,
   "metadata": {
    "collapsed": false
   },
   "outputs": [],
   "source": [
    "# bar plot grouped\n",
    "quarters = ['2016_1q', '2016_2q', '2016_3q', '2016_4q']\n",
    "df_q = pd.concat([df.query(\"time=='%s'\" % quarter) for quarter in quarters])\n",
    "\n",
    "hover = HoverTool(\n",
    "        tooltips=[\n",
    "            ('Airline', \"@CARRIER\"),\n",
    "            (\"denied boarding ratio\", \"@height\")\n",
    "        ]\n",
    ")\n",
    "p = Bar(df_q,\n",
    "        label='CARRIER',\n",
    "        values='denied_boarding_ratio',\n",
    "        group=\"time\",\n",
    "        color=color(palette=['#ff692e', '#ffa07a', '#ffcfbc', '#ffd9c9'], sort=False),\n",
    "        tools=[hover],\n",
    "        legend='top_right',\n",
    "        title=\"Denied Boarding in 2016\",\n",
    "        xlabel=\"Airlines\", ylabel=\"Number of passengers denied boarding/10000 Passengers\")\n",
    "\n",
    "html = file_html(p, CDN, \"Denied Boarding 2016 Q4\")\n",
    "output_file = open('bar_plot_group.html', 'w')\n",
    "output_file.write(html)"
   ]
  },
  {
   "cell_type": "code",
   "execution_count": null,
   "metadata": {
    "collapsed": false
   },
   "outputs": [],
   "source": [
    "# bar plot stacked\n",
    "quarters = ['2016_1q', '2016_2q', '2016_3q', '2016_4q']\n",
    "df_q = pd.concat([df.query(\"time=='%s'\" % quarter) for quarter in quarters])\n",
    "df_q.loc[:, '3-4'] = df_q['3'] - df_q['4']\n",
    "\n",
    "hover = HoverTool(\n",
    "        tooltips=[\n",
    "            ('Airline', \"@CARRIER\"),\n",
    "            (\"Number of passengers\", \"@height\")\n",
    "        ]\n",
    ")\n",
    "p = Bar(df_q,\n",
    "        label='CARRIER',\n",
    "        values=blend('4', '3-4', labels_name='denied_total'),\n",
    "        stack=\"denied_total\",\n",
    "        color=color(palette=['#ffa07a', '#ffd9c9'], sort=False),\n",
    "        tools=[hover],\n",
    "        legend='top_right',\n",
    "        title=\"Denied Boarding in 2016\",\n",
    "        xlabel=\"Airlines\", ylabel=\"Number of passengers denied boarding/10000 Passengers\")\n",
    "\n",
    "html = file_html(p, CDN, \"Denied Boarding 2016 Q4\")\n",
    "output_file = open('bar_plot_stack.html', 'w')\n",
    "output_file.write(html)"
   ]
  },
  {
   "cell_type": "code",
   "execution_count": null,
   "metadata": {
    "collapsed": false
   },
   "outputs": [],
   "source": [
    "# bar plot grouped\n",
    "quarters = ['2016_1q', '2016_2q', '2016_3q', '2016_4q']\n",
    "df_q = pd.concat([df.query(\"time=='%s'\" % quarter) for quarter in quarters])\n",
    "\n",
    "hover = HoverTool(\n",
    "        tooltips=[\n",
    "            ('Airline', \"@CARRIER\"),\n",
    "            (\"denied boarding ratio\", \"@height\")\n",
    "        ]\n",
    ")\n",
    "p = Bar(df_q,\n",
    "        label='CARRIER',\n",
    "        values='denied_boarding_ratio',\n",
    "        stack=\"time\",\n",
    "        color=color(palette=['#ff692e', '#ffa07a', '#ffcfbc', '#ffd9c9'], sort=False),\n",
    "        tools=[hover],\n",
    "        legend='top_right',\n",
    "        title=\"Denied Boarding in 2016\",\n",
    "        xlabel=\"Airlines\", ylabel=\"Number of passengers denied boarding/10000 Passengers\")\n",
    "\n",
    "html = file_html(p, CDN, \"Denied Boarding 2016 Q4\")\n",
    "output_file = open('bar_plot_group.html', 'w')\n",
    "output_file.write(html)"
   ]
  },
  {
   "cell_type": "code",
   "execution_count": null,
   "metadata": {
    "collapsed": false
   },
   "outputs": [],
   "source": [
    "# scatter plot\n",
    "quarters = ['2016_1q', '2016_2q', '2016_3q', '2016_4q']\n",
    "df_q = pd.concat([df.query(\"time=='%s'\" % quarter) for quarter in quarters])\n",
    "df_2016 = df_q.groupby('CARRIER').sum()[['3', '7']].reset_index()\n",
    "\n",
    "hover = HoverTool(\n",
    "        tooltips=[\n",
    "            ('Denied boarding involuntarily', \"$x\"),\n",
    "            (\"Total Boarding\", \"$y\")\n",
    "        ]\n",
    ")\n",
    "labels = LabelSet(x='3', y='7', text='CARRIER',\n",
    "                  x_offset=5, y_offset=-5,\n",
    "                  source=ColumnDataSource(df_2016),\n",
    "                  text_font_size=\"8pt\", text_color=\"#555555\")\n",
    "\n",
    "ps = Scatter(df_2016, x='3', y='7',\n",
    "             title=\"Scatter Plot of Number of Passengers vs. Denied Boarding Passengers in 2016\",\n",
    "             xlabel=\"Denied boarding involuntarily\",\n",
    "             ylabel=\"Total Boarding\",\n",
    "             tools=[hover],\n",
    "             )\n",
    "ps.add_layout(labels)\n",
    "html = file_html(ps, CDN, \"Scatter Plot of Number of Passengers vs. Denied Boarding Passengers\")\n",
    "output_file = open('scatter_plot.html', 'w')\n",
    "output_file.write(html)"
   ]
  },
  {
   "cell_type": "code",
   "execution_count": null,
   "metadata": {
    "collapsed": true
   },
   "outputs": [],
   "source": []
  }
 ],
 "metadata": {
  "kernelspec": {
   "display_name": "Python 3",
   "language": "python",
   "name": "python3"
  },
  "language_info": {
   "codemirror_mode": {
    "name": "ipython",
    "version": 3
   },
   "file_extension": ".py",
   "mimetype": "text/x-python",
   "name": "python",
   "nbconvert_exporter": "python",
   "pygments_lexer": "ipython3",
   "version": "3.6.0"
  }
 },
 "nbformat": 4,
 "nbformat_minor": 2
}
